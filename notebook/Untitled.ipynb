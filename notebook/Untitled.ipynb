{
 "cells": [
  {
   "cell_type": "code",
   "execution_count": 2,
   "id": "c08c79c3-e5c9-48f7-acb9-20cac26a03fb",
   "metadata": {},
   "outputs": [
    {
     "name": "stdout",
     "output_type": "stream",
     "text": [
      "Hello mamuru_bot!!!\n"
     ]
    }
   ],
   "source": [
    "print(\"Hello mamuru_bot!!!\")"
   ]
  },
  {
   "cell_type": "code",
   "execution_count": 7,
   "id": "8b2224d5-3d63-49ac-90e1-ab9493d6e18c",
   "metadata": {},
   "outputs": [
    {
     "name": "stdout",
     "output_type": "stream",
     "text": [
      "user.name=kazuki-morimoto\n",
      "user.email=marimorimo0819@gmail.com\n"
     ]
    }
   ],
   "source": [
    "! git config --list"
   ]
  },
  {
   "cell_type": "code",
   "execution_count": 6,
   "id": "d7f39da3-9a6f-4ff6-ae2c-d08b4297e1e1",
   "metadata": {},
   "outputs": [],
   "source": [
    "! git config --global user.name kazuki-morimoto\n",
    "! git config --global user.email marimorimo0819@gmail.com"
   ]
  },
  {
   "cell_type": "code",
   "execution_count": null,
   "id": "3a328b21-31f7-4d84-ad29-8451aa65d042",
   "metadata": {},
   "outputs": [],
   "source": []
  }
 ],
 "metadata": {
  "kernelspec": {
   "display_name": "Python 3 (ipykernel)",
   "language": "python",
   "name": "python3"
  },
  "language_info": {
   "codemirror_mode": {
    "name": "ipython",
    "version": 3
   },
   "file_extension": ".py",
   "mimetype": "text/x-python",
   "name": "python",
   "nbconvert_exporter": "python",
   "pygments_lexer": "ipython3",
   "version": "3.10.13"
  }
 },
 "nbformat": 4,
 "nbformat_minor": 5
}
