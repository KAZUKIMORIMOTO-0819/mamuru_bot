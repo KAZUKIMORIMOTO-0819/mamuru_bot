{
 "cells": [
  {
   "cell_type": "code",
   "execution_count": null,
   "id": "c08c79c3-e5c9-48f7-acb9-20cac26a03fb",
   "metadata": {},
   "outputs": [],
   "source": [
    "import os\n",
    "\n",
    "import numpy as np\n",
    "import pandas as pd"
   ]
  },
  {
   "cell_type": "code",
   "execution_count": 5,
   "id": "8b2224d5-3d63-49ac-90e1-ab9493d6e18c",
   "metadata": {},
   "outputs": [
    {
     "name": "stdout",
     "output_type": "stream",
     "text": [
      "dfaaa\n"
     ]
    }
   ],
   "source": [
    "print(\"dfaaa\")"
   ]
  },
  {
   "cell_type": "code",
   "execution_count": null,
   "id": "d7f39da3-9a6f-4ff6-ae2c-d08b4297e1e1",
   "metadata": {},
   "outputs": [],
   "source": []
  },
  {
   "cell_type": "code",
   "execution_count": null,
   "id": "3a328b21-31f7-4d84-ad29-8451aa65d042",
   "metadata": {},
   "outputs": [],
   "source": []
  }
 ],
 "metadata": {
  "kernelspec": {
   "display_name": "Python 3 (ipykernel)",
   "language": "python",
   "name": "python3"
  },
  "language_info": {
   "codemirror_mode": {
    "name": "ipython",
    "version": 3
   },
   "file_extension": ".py",
   "mimetype": "text/x-python",
   "name": "python",
   "nbconvert_exporter": "python",
   "pygments_lexer": "ipython3",
   "version": "3.10.13"
  }
 },
 "nbformat": 4,
 "nbformat_minor": 5
}
